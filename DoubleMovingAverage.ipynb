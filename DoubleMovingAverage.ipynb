{
 "cells": [
  {
   "cell_type": "markdown",
   "id": "1abaf16c",
   "metadata": {},
   "source": [
    "# DoubleMovingAverage (DMA)"
   ]
  },
  {
   "cell_type": "code",
   "execution_count": 1,
   "id": "ac46743c",
   "metadata": {},
   "outputs": [
    {
     "data": {
      "text/html": [
       "<div>\n",
       "<style scoped>\n",
       "    .dataframe tbody tr th:only-of-type {\n",
       "        vertical-align: middle;\n",
       "    }\n",
       "\n",
       "    .dataframe tbody tr th {\n",
       "        vertical-align: top;\n",
       "    }\n",
       "\n",
       "    .dataframe thead th {\n",
       "        text-align: right;\n",
       "    }\n",
       "</style>\n",
       "<table border=\"1\" class=\"dataframe\">\n",
       "  <thead>\n",
       "    <tr style=\"text-align: right;\">\n",
       "      <th></th>\n",
       "      <th>date</th>\n",
       "      <th>open</th>\n",
       "      <th>close</th>\n",
       "      <th>high</th>\n",
       "      <th>low</th>\n",
       "      <th>volume</th>\n",
       "      <th>code</th>\n",
       "    </tr>\n",
       "  </thead>\n",
       "  <tbody>\n",
       "    <tr>\n",
       "      <th>0</th>\n",
       "      <td>2001-08-27</td>\n",
       "      <td>-113.034</td>\n",
       "      <td>-112.849</td>\n",
       "      <td>-112.453</td>\n",
       "      <td>-113.329</td>\n",
       "      <td>406318.00</td>\n",
       "      <td>600519</td>\n",
       "    </tr>\n",
       "    <tr>\n",
       "      <th>1</th>\n",
       "      <td>2001-08-28</td>\n",
       "      <td>-112.949</td>\n",
       "      <td>-112.616</td>\n",
       "      <td>-112.591</td>\n",
       "      <td>-113.016</td>\n",
       "      <td>129647.79</td>\n",
       "      <td>600519</td>\n",
       "    </tr>\n",
       "    <tr>\n",
       "      <th>2</th>\n",
       "      <td>2001-08-29</td>\n",
       "      <td>-112.595</td>\n",
       "      <td>-112.702</td>\n",
       "      <td>-112.591</td>\n",
       "      <td>-112.751</td>\n",
       "      <td>53252.75</td>\n",
       "      <td>600519</td>\n",
       "    </tr>\n",
       "    <tr>\n",
       "      <th>3</th>\n",
       "      <td>2001-08-30</td>\n",
       "      <td>-112.719</td>\n",
       "      <td>-112.574</td>\n",
       "      <td>-112.501</td>\n",
       "      <td>-112.769</td>\n",
       "      <td>48013.06</td>\n",
       "      <td>600519</td>\n",
       "    </tr>\n",
       "    <tr>\n",
       "      <th>4</th>\n",
       "      <td>2001-08-31</td>\n",
       "      <td>-112.565</td>\n",
       "      <td>-112.590</td>\n",
       "      <td>-112.481</td>\n",
       "      <td>-112.627</td>\n",
       "      <td>23231.48</td>\n",
       "      <td>600519</td>\n",
       "    </tr>\n",
       "    <tr>\n",
       "      <th>...</th>\n",
       "      <td>...</td>\n",
       "      <td>...</td>\n",
       "      <td>...</td>\n",
       "      <td>...</td>\n",
       "      <td>...</td>\n",
       "      <td>...</td>\n",
       "      <td>...</td>\n",
       "    </tr>\n",
       "    <tr>\n",
       "      <th>5085</th>\n",
       "      <td>2022-12-01</td>\n",
       "      <td>1660.000</td>\n",
       "      <td>1630.800</td>\n",
       "      <td>1680.000</td>\n",
       "      <td>1630.790</td>\n",
       "      <td>51358.00</td>\n",
       "      <td>600519</td>\n",
       "    </tr>\n",
       "    <tr>\n",
       "      <th>5086</th>\n",
       "      <td>2022-12-02</td>\n",
       "      <td>1635.000</td>\n",
       "      <td>1633.880</td>\n",
       "      <td>1652.990</td>\n",
       "      <td>1621.200</td>\n",
       "      <td>23884.00</td>\n",
       "      <td>600519</td>\n",
       "    </tr>\n",
       "    <tr>\n",
       "      <th>5087</th>\n",
       "      <td>2022-12-05</td>\n",
       "      <td>1668.000</td>\n",
       "      <td>1664.900</td>\n",
       "      <td>1679.000</td>\n",
       "      <td>1649.000</td>\n",
       "      <td>36127.00</td>\n",
       "      <td>600519</td>\n",
       "    </tr>\n",
       "    <tr>\n",
       "      <th>5088</th>\n",
       "      <td>2022-12-06</td>\n",
       "      <td>1655.000</td>\n",
       "      <td>1688.000</td>\n",
       "      <td>1726.900</td>\n",
       "      <td>1652.000</td>\n",
       "      <td>44147.00</td>\n",
       "      <td>600519</td>\n",
       "    </tr>\n",
       "    <tr>\n",
       "      <th>5089</th>\n",
       "      <td>2022-12-07</td>\n",
       "      <td>1677.810</td>\n",
       "      <td>1684.000</td>\n",
       "      <td>1720.000</td>\n",
       "      <td>1670.030</td>\n",
       "      <td>35526.00</td>\n",
       "      <td>600519</td>\n",
       "    </tr>\n",
       "  </tbody>\n",
       "</table>\n",
       "<p>5090 rows × 7 columns</p>\n",
       "</div>"
      ],
      "text/plain": [
       "            date      open     close      high       low     volume    code\n",
       "0     2001-08-27  -113.034  -112.849  -112.453  -113.329  406318.00  600519\n",
       "1     2001-08-28  -112.949  -112.616  -112.591  -113.016  129647.79  600519\n",
       "2     2001-08-29  -112.595  -112.702  -112.591  -112.751   53252.75  600519\n",
       "3     2001-08-30  -112.719  -112.574  -112.501  -112.769   48013.06  600519\n",
       "4     2001-08-31  -112.565  -112.590  -112.481  -112.627   23231.48  600519\n",
       "...          ...       ...       ...       ...       ...        ...     ...\n",
       "5085  2022-12-01  1660.000  1630.800  1680.000  1630.790   51358.00  600519\n",
       "5086  2022-12-02  1635.000  1633.880  1652.990  1621.200   23884.00  600519\n",
       "5087  2022-12-05  1668.000  1664.900  1679.000  1649.000   36127.00  600519\n",
       "5088  2022-12-06  1655.000  1688.000  1726.900  1652.000   44147.00  600519\n",
       "5089  2022-12-07  1677.810  1684.000  1720.000  1670.030   35526.00  600519\n",
       "\n",
       "[5090 rows x 7 columns]"
      ]
     },
     "execution_count": 1,
     "metadata": {},
     "output_type": "execute_result"
    }
   ],
   "source": [
    "# still using maotai's stock history\n",
    "\n",
    "import pandas as pd\n",
    "\n",
    "df = pd.read_csv('maotai.csv').drop(labels = 'Unnamed: 0', axis = 1)\n",
    "df"
   ]
  },
  {
   "cell_type": "code",
   "execution_count": 2,
   "id": "13a14075",
   "metadata": {},
   "outputs": [],
   "source": [
    "df['date'] = pd.to_datetime(df['date']) # change the type of 'date' to date type"
   ]
  },
  {
   "cell_type": "code",
   "execution_count": 3,
   "id": "a6f84518",
   "metadata": {},
   "outputs": [],
   "source": [
    "df.set_index('date',inplace=True) # reset the index as 'date'"
   ]
  },
  {
   "cell_type": "code",
   "execution_count": 4,
   "id": "b65148d1",
   "metadata": {},
   "outputs": [
    {
     "data": {
      "text/html": [
       "<div>\n",
       "<style scoped>\n",
       "    .dataframe tbody tr th:only-of-type {\n",
       "        vertical-align: middle;\n",
       "    }\n",
       "\n",
       "    .dataframe tbody tr th {\n",
       "        vertical-align: top;\n",
       "    }\n",
       "\n",
       "    .dataframe thead th {\n",
       "        text-align: right;\n",
       "    }\n",
       "</style>\n",
       "<table border=\"1\" class=\"dataframe\">\n",
       "  <thead>\n",
       "    <tr style=\"text-align: right;\">\n",
       "      <th></th>\n",
       "      <th>open</th>\n",
       "      <th>close</th>\n",
       "      <th>high</th>\n",
       "      <th>low</th>\n",
       "      <th>volume</th>\n",
       "      <th>code</th>\n",
       "    </tr>\n",
       "    <tr>\n",
       "      <th>date</th>\n",
       "      <th></th>\n",
       "      <th></th>\n",
       "      <th></th>\n",
       "      <th></th>\n",
       "      <th></th>\n",
       "      <th></th>\n",
       "    </tr>\n",
       "  </thead>\n",
       "  <tbody>\n",
       "    <tr>\n",
       "      <th>2001-08-27</th>\n",
       "      <td>-113.034</td>\n",
       "      <td>-112.849</td>\n",
       "      <td>-112.453</td>\n",
       "      <td>-113.329</td>\n",
       "      <td>406318.00</td>\n",
       "      <td>600519</td>\n",
       "    </tr>\n",
       "    <tr>\n",
       "      <th>2001-08-28</th>\n",
       "      <td>-112.949</td>\n",
       "      <td>-112.616</td>\n",
       "      <td>-112.591</td>\n",
       "      <td>-113.016</td>\n",
       "      <td>129647.79</td>\n",
       "      <td>600519</td>\n",
       "    </tr>\n",
       "    <tr>\n",
       "      <th>2001-08-29</th>\n",
       "      <td>-112.595</td>\n",
       "      <td>-112.702</td>\n",
       "      <td>-112.591</td>\n",
       "      <td>-112.751</td>\n",
       "      <td>53252.75</td>\n",
       "      <td>600519</td>\n",
       "    </tr>\n",
       "    <tr>\n",
       "      <th>2001-08-30</th>\n",
       "      <td>-112.719</td>\n",
       "      <td>-112.574</td>\n",
       "      <td>-112.501</td>\n",
       "      <td>-112.769</td>\n",
       "      <td>48013.06</td>\n",
       "      <td>600519</td>\n",
       "    </tr>\n",
       "    <tr>\n",
       "      <th>2001-08-31</th>\n",
       "      <td>-112.565</td>\n",
       "      <td>-112.590</td>\n",
       "      <td>-112.481</td>\n",
       "      <td>-112.627</td>\n",
       "      <td>23231.48</td>\n",
       "      <td>600519</td>\n",
       "    </tr>\n",
       "    <tr>\n",
       "      <th>...</th>\n",
       "      <td>...</td>\n",
       "      <td>...</td>\n",
       "      <td>...</td>\n",
       "      <td>...</td>\n",
       "      <td>...</td>\n",
       "      <td>...</td>\n",
       "    </tr>\n",
       "    <tr>\n",
       "      <th>2022-12-01</th>\n",
       "      <td>1660.000</td>\n",
       "      <td>1630.800</td>\n",
       "      <td>1680.000</td>\n",
       "      <td>1630.790</td>\n",
       "      <td>51358.00</td>\n",
       "      <td>600519</td>\n",
       "    </tr>\n",
       "    <tr>\n",
       "      <th>2022-12-02</th>\n",
       "      <td>1635.000</td>\n",
       "      <td>1633.880</td>\n",
       "      <td>1652.990</td>\n",
       "      <td>1621.200</td>\n",
       "      <td>23884.00</td>\n",
       "      <td>600519</td>\n",
       "    </tr>\n",
       "    <tr>\n",
       "      <th>2022-12-05</th>\n",
       "      <td>1668.000</td>\n",
       "      <td>1664.900</td>\n",
       "      <td>1679.000</td>\n",
       "      <td>1649.000</td>\n",
       "      <td>36127.00</td>\n",
       "      <td>600519</td>\n",
       "    </tr>\n",
       "    <tr>\n",
       "      <th>2022-12-06</th>\n",
       "      <td>1655.000</td>\n",
       "      <td>1688.000</td>\n",
       "      <td>1726.900</td>\n",
       "      <td>1652.000</td>\n",
       "      <td>44147.00</td>\n",
       "      <td>600519</td>\n",
       "    </tr>\n",
       "    <tr>\n",
       "      <th>2022-12-07</th>\n",
       "      <td>1677.810</td>\n",
       "      <td>1684.000</td>\n",
       "      <td>1720.000</td>\n",
       "      <td>1670.030</td>\n",
       "      <td>35526.00</td>\n",
       "      <td>600519</td>\n",
       "    </tr>\n",
       "  </tbody>\n",
       "</table>\n",
       "<p>5090 rows × 6 columns</p>\n",
       "</div>"
      ],
      "text/plain": [
       "                open     close      high       low     volume    code\n",
       "date                                                                 \n",
       "2001-08-27  -113.034  -112.849  -112.453  -113.329  406318.00  600519\n",
       "2001-08-28  -112.949  -112.616  -112.591  -113.016  129647.79  600519\n",
       "2001-08-29  -112.595  -112.702  -112.591  -112.751   53252.75  600519\n",
       "2001-08-30  -112.719  -112.574  -112.501  -112.769   48013.06  600519\n",
       "2001-08-31  -112.565  -112.590  -112.481  -112.627   23231.48  600519\n",
       "...              ...       ...       ...       ...        ...     ...\n",
       "2022-12-01  1660.000  1630.800  1680.000  1630.790   51358.00  600519\n",
       "2022-12-02  1635.000  1633.880  1652.990  1621.200   23884.00  600519\n",
       "2022-12-05  1668.000  1664.900  1679.000  1649.000   36127.00  600519\n",
       "2022-12-06  1655.000  1688.000  1726.900  1652.000   44147.00  600519\n",
       "2022-12-07  1677.810  1684.000  1720.000  1670.030   35526.00  600519\n",
       "\n",
       "[5090 rows x 6 columns]"
      ]
     },
     "execution_count": 4,
     "metadata": {},
     "output_type": "execute_result"
    }
   ],
   "source": [
    "df"
   ]
  },
  {
   "cell_type": "markdown",
   "id": "36d56053",
   "metadata": {},
   "source": [
    "- MA = (C1+C2+...+Cn)/N (C is the closing price, N is the moving days)"
   ]
  },
  {
   "cell_type": "code",
   "execution_count": 5,
   "id": "a58c5aeb",
   "metadata": {},
   "outputs": [],
   "source": [
    "ma5= df['close'].rolling(5).mean()\n",
    "ma30 = df['close'].rolling(30).mean()"
   ]
  },
  {
   "cell_type": "code",
   "execution_count": 6,
   "id": "72ab3722",
   "metadata": {},
   "outputs": [
    {
     "data": {
      "text/plain": [
       "[<matplotlib.lines.Line2D at 0x7fa5af4d4970>]"
      ]
     },
     "execution_count": 6,
     "metadata": {},
     "output_type": "execute_result"
    },
    {
     "data": {
      "image/png": "[encoded data removed]",
      "text/plain": [
       "<Figure size 640x480 with 1 Axes>"
      ]
     },
     "metadata": {},
     "output_type": "display_data"
    }
   ],
   "source": [
    "import matplotlib.pyplot as plt\n",
    "plt.plot(ma5)\n",
    "plt.plot(ma30)"
   ]
  },
  {
   "cell_type": "code",
   "execution_count": 7,
   "id": "6bdce6db",
   "metadata": {},
   "outputs": [
    {
     "data": {
      "text/plain": [
       "[<matplotlib.lines.Line2D at 0x7fa5af855f70>]"
      ]
     },
     "execution_count": 7,
     "metadata": {},
     "output_type": "execute_result"
    },
    {
     "data": {
      "image/png": "[encoded data removed]",
      "text/plain": [
       "<Figure size 640x480 with 1 Axes>"
      ]
     },
     "metadata": {},
     "output_type": "display_data"
    }
   ],
   "source": [
    "plt.plot(ma5[50:180])\n",
    "plt.plot(ma30 [50:180])"
   ]
  },
  {
   "cell_type": "markdown",
   "id": "425a4aa5",
   "metadata": {},
   "source": [
    "## Crossing point\n",
    "\n",
    "- Gold crossing: short MA increasing and across long MA, take long side\n",
    "- Dead crossing: short MA decreasing and across long MA, take short side"
   ]
  },
  {
   "cell_type": "code",
   "execution_count": 8,
   "id": "ef7683d4",
   "metadata": {},
   "outputs": [],
   "source": [
    "ma5 = ma5[30:]\n",
    "ma30 = ma30[30:]"
   ]
  },
  {
   "cell_type": "code",
   "execution_count": 9,
   "id": "614dca13",
   "metadata": {},
   "outputs": [],
   "source": [
    "s1 = ma5<ma30"
   ]
  },
  {
   "cell_type": "code",
   "execution_count": 10,
   "id": "d93e5da5",
   "metadata": {},
   "outputs": [],
   "source": [
    "s2 = ma5>ma30"
   ]
  },
  {
   "cell_type": "code",
   "execution_count": 11,
   "id": "d50a8fd4",
   "metadata": {},
   "outputs": [],
   "source": [
    "df = df[30:]"
   ]
  },
  {
   "cell_type": "code",
   "execution_count": 12,
   "id": "b2fa5b8d",
   "metadata": {},
   "outputs": [],
   "source": [
    "# dead crossing:\n",
    "death_cross =  s1 & s2.shift(1) "
   ]
  },
  {
   "cell_type": "code",
   "execution_count": 13,
   "id": "45f3951c",
   "metadata": {},
   "outputs": [
    {
     "data": {
      "text/html": [
       "<div>\n",
       "<style scoped>\n",
       "    .dataframe tbody tr th:only-of-type {\n",
       "        vertical-align: middle;\n",
       "    }\n",
       "\n",
       "    .dataframe tbody tr th {\n",
       "        vertical-align: top;\n",
       "    }\n",
       "\n",
       "    .dataframe thead th {\n",
       "        text-align: right;\n",
       "    }\n",
       "</style>\n",
       "<table border=\"1\" class=\"dataframe\">\n",
       "  <thead>\n",
       "    <tr style=\"text-align: right;\">\n",
       "      <th></th>\n",
       "      <th>open</th>\n",
       "      <th>close</th>\n",
       "      <th>high</th>\n",
       "      <th>low</th>\n",
       "      <th>volume</th>\n",
       "      <th>code</th>\n",
       "    </tr>\n",
       "    <tr>\n",
       "      <th>date</th>\n",
       "      <th></th>\n",
       "      <th></th>\n",
       "      <th></th>\n",
       "      <th></th>\n",
       "      <th></th>\n",
       "      <th></th>\n",
       "    </tr>\n",
       "  </thead>\n",
       "  <tbody>\n",
       "    <tr>\n",
       "      <th>2002-01-17</th>\n",
       "      <td>-112.734</td>\n",
       "      <td>-112.936</td>\n",
       "      <td>-112.682</td>\n",
       "      <td>-113.000</td>\n",
       "      <td>24180.31</td>\n",
       "      <td>600519</td>\n",
       "    </tr>\n",
       "    <tr>\n",
       "      <th>2002-01-30</th>\n",
       "      <td>-112.840</td>\n",
       "      <td>-112.844</td>\n",
       "      <td>-112.719</td>\n",
       "      <td>-112.911</td>\n",
       "      <td>8419.22</td>\n",
       "      <td>600519</td>\n",
       "    </tr>\n",
       "    <tr>\n",
       "      <th>2002-03-29</th>\n",
       "      <td>-112.414</td>\n",
       "      <td>-112.545</td>\n",
       "      <td>-112.405</td>\n",
       "      <td>-112.574</td>\n",
       "      <td>10625.47</td>\n",
       "      <td>600519</td>\n",
       "    </tr>\n",
       "    <tr>\n",
       "      <th>2002-07-29</th>\n",
       "      <td>-112.765</td>\n",
       "      <td>-112.865</td>\n",
       "      <td>-112.750</td>\n",
       "      <td>-112.886</td>\n",
       "      <td>2557.48</td>\n",
       "      <td>600519</td>\n",
       "    </tr>\n",
       "    <tr>\n",
       "      <th>2002-12-27</th>\n",
       "      <td>-114.038</td>\n",
       "      <td>-114.008</td>\n",
       "      <td>-113.983</td>\n",
       "      <td>-114.073</td>\n",
       "      <td>3390.21</td>\n",
       "      <td>600519</td>\n",
       "    </tr>\n",
       "    <tr>\n",
       "      <th>...</th>\n",
       "      <td>...</td>\n",
       "      <td>...</td>\n",
       "      <td>...</td>\n",
       "      <td>...</td>\n",
       "      <td>...</td>\n",
       "      <td>...</td>\n",
       "    </tr>\n",
       "    <tr>\n",
       "      <th>2021-11-04</th>\n",
       "      <td>1756.265</td>\n",
       "      <td>1782.525</td>\n",
       "      <td>1794.325</td>\n",
       "      <td>1747.745</td>\n",
       "      <td>31130.00</td>\n",
       "      <td>600519</td>\n",
       "    </tr>\n",
       "    <tr>\n",
       "      <th>2022-01-06</th>\n",
       "      <td>2000.335</td>\n",
       "      <td>1960.545</td>\n",
       "      <td>2014.325</td>\n",
       "      <td>1916.835</td>\n",
       "      <td>51795.00</td>\n",
       "      <td>600519</td>\n",
       "    </tr>\n",
       "    <tr>\n",
       "      <th>2022-05-13</th>\n",
       "      <td>1758.325</td>\n",
       "      <td>1756.565</td>\n",
       "      <td>1776.265</td>\n",
       "      <td>1744.325</td>\n",
       "      <td>20731.00</td>\n",
       "      <td>600519</td>\n",
       "    </tr>\n",
       "    <tr>\n",
       "      <th>2022-07-21</th>\n",
       "      <td>1943.100</td>\n",
       "      <td>1939.000</td>\n",
       "      <td>1955.900</td>\n",
       "      <td>1934.510</td>\n",
       "      <td>14061.00</td>\n",
       "      <td>600519</td>\n",
       "    </tr>\n",
       "    <tr>\n",
       "      <th>2022-10-10</th>\n",
       "      <td>1890.000</td>\n",
       "      <td>1786.000</td>\n",
       "      <td>1891.000</td>\n",
       "      <td>1780.200</td>\n",
       "      <td>48584.00</td>\n",
       "      <td>600519</td>\n",
       "    </tr>\n",
       "  </tbody>\n",
       "</table>\n",
       "<p>107 rows × 6 columns</p>\n",
       "</div>"
      ],
      "text/plain": [
       "                open     close      high       low    volume    code\n",
       "date                                                                \n",
       "2002-01-17  -112.734  -112.936  -112.682  -113.000  24180.31  600519\n",
       "2002-01-30  -112.840  -112.844  -112.719  -112.911   8419.22  600519\n",
       "2002-03-29  -112.414  -112.545  -112.405  -112.574  10625.47  600519\n",
       "2002-07-29  -112.765  -112.865  -112.750  -112.886   2557.48  600519\n",
       "2002-12-27  -114.038  -114.008  -113.983  -114.073   3390.21  600519\n",
       "...              ...       ...       ...       ...       ...     ...\n",
       "2021-11-04  1756.265  1782.525  1794.325  1747.745  31130.00  600519\n",
       "2022-01-06  2000.335  1960.545  2014.325  1916.835  51795.00  600519\n",
       "2022-05-13  1758.325  1756.565  1776.265  1744.325  20731.00  600519\n",
       "2022-07-21  1943.100  1939.000  1955.900  1934.510  14061.00  600519\n",
       "2022-10-10  1890.000  1786.000  1891.000  1780.200  48584.00  600519\n",
       "\n",
       "[107 rows x 6 columns]"
      ]
     },
     "execution_count": 13,
     "metadata": {},
     "output_type": "execute_result"
    }
   ],
   "source": [
    "df.loc[death_cross]"
   ]
  },
  {
   "cell_type": "code",
   "execution_count": 14,
   "id": "44a3f3f5",
   "metadata": {},
   "outputs": [],
   "source": [
    "death_crossing_date = df.loc[death_cross].index"
   ]
  },
  {
   "cell_type": "code",
   "execution_count": 15,
   "id": "2bb2dd83",
   "metadata": {},
   "outputs": [
    {
     "data": {
      "text/plain": [
       "DatetimeIndex(['2002-01-17', '2002-01-30', '2002-03-29', '2002-07-29',\n",
       "               '2002-12-27', '2003-03-17', '2003-04-22', '2003-06-20',\n",
       "               '2003-06-30', '2003-08-04',\n",
       "               ...\n",
       "               '2020-10-27', '2021-03-01', '2021-04-15', '2021-05-06',\n",
       "               '2021-06-22', '2021-11-04', '2022-01-06', '2022-05-13',\n",
       "               '2022-07-21', '2022-10-10'],\n",
       "              dtype='datetime64[ns]', name='date', length=107, freq=None)"
      ]
     },
     "execution_count": 15,
     "metadata": {},
     "output_type": "execute_result"
    }
   ],
   "source": [
    "death_crossing_date"
   ]
  },
  {
   "cell_type": "code",
   "execution_count": 16,
   "id": "a7252406",
   "metadata": {},
   "outputs": [],
   "source": [
    "gold_cross =  -(s1 | s2.shift(1)) "
   ]
  },
  {
   "cell_type": "code",
   "execution_count": 17,
   "id": "75f904b3",
   "metadata": {},
   "outputs": [],
   "source": [
    "gold_crossing_date = df.loc[gold_cross].index"
   ]
  },
  {
   "cell_type": "code",
   "execution_count": 18,
   "id": "2e1fc9bd",
   "metadata": {
    "scrolled": false
   },
   "outputs": [
    {
     "data": {
      "text/plain": [
       "DatetimeIndex(['2001-11-22', '2002-01-24', '2002-02-04', '2002-06-21',\n",
       "               '2002-12-05', '2003-01-16', '2003-04-15', '2003-05-30',\n",
       "               '2003-06-24', '2003-07-14',\n",
       "               ...\n",
       "               '2020-11-05', '2021-04-02', '2021-04-16', '2021-05-20',\n",
       "               '2021-09-16', '2021-11-23', '2022-04-07', '2022-06-02',\n",
       "               '2022-09-29', '2022-11-18'],\n",
       "              dtype='datetime64[ns]', name='date', length=108, freq=None)"
      ]
     },
     "execution_count": 18,
     "metadata": {},
     "output_type": "execute_result"
    }
   ],
   "source": [
    "gold_crossing_date"
   ]
  },
  {
   "cell_type": "markdown",
   "id": "b0473dff",
   "metadata": {},
   "source": [
    "## Problem:\n",
    "\n",
    "If you follow the follow the gold crossing buy, death crossing sell since 2010 until 2020, assume you cannot buy fraction of a share, with start capital = $100,000. How's your gain?\n",
    "\n",
    "- use opening price for buying and selling\n",
    "- assume you may remain stocks on hand at the end (using closing price)"
   ]
  },
  {
   "cell_type": "code",
   "execution_count": 35,
   "id": "f6210366",
   "metadata": {},
   "outputs": [
    {
     "data": {
      "text/plain": [
       "date\n",
       "2010-01-20    1\n",
       "2010-01-22    0\n",
       "2010-02-03    1\n",
       "2010-02-26    0\n",
       "2010-06-04    1\n",
       "             ..\n",
       "2020-08-19    1\n",
       "2020-09-21    0\n",
       "2020-10-14    1\n",
       "2020-10-27    0\n",
       "2020-11-05    1\n",
       "Length: 115, dtype: int64"
      ]
     },
     "execution_count": 35,
     "metadata": {},
     "output_type": "execute_result"
    }
   ],
   "source": [
    "from pandas import Series\n",
    "s1 = Series(data=1, index= gold_crossing_date)\n",
    "s2 = Series(data=0, index= death_crossing_date)\n",
    "s = pd.concat([s1, s2])\n",
    "s = s.sort_index()\n",
    "s = s['2010':'2020']\n",
    "s "
   ]
  },
  {
   "cell_type": "code",
   "execution_count": 48,
   "id": "66b9570f",
   "metadata": {},
   "outputs": [
    {
     "name": "stdout",
     "output_type": "stream",
     "text": [
      "957317.5000000002\n"
     ]
    }
   ],
   "source": [
    "principal = 100000\n",
    "spend = principal\n",
    "shares = 0\n",
    "\n",
    "for i in range(0,len(s)):\n",
    "    if s[i]==1:\n",
    "        time = s.index[i]\n",
    "        p = df.loc[time]['open']\n",
    "        count = spend//(p*100) \n",
    "        shares = count*100\n",
    "        principal -= (shares*p)\n",
    "    else:\n",
    "        deathTime = s.index[i]\n",
    "        p_death = df.loc[deathTime]['open']\n",
    "        principal += (p_death*shares)\n",
    "        shares = 0\n",
    "        \n",
    "    remain = shares*df['close'][-1]\n",
    "    \n",
    "print(principal+remain-spend)"
   ]
  }
 ],
 "metadata": {
  "kernelspec": {
   "display_name": "Python 3 (ipykernel)",
   "language": "python",
   "name": "python3"
  },
  "language_info": {
   "codemirror_mode": {
    "name": "ipython",
    "version": 3
   },
   "file_extension": ".py",
   "mimetype": "text/x-python",
   "name": "python",
   "nbconvert_exporter": "python",
   "pygments_lexer": "ipython3",
   "version": "3.9.13"
  }
 },
 "nbformat": 4,
 "nbformat_minor": 5
}
